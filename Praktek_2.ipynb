{
  "nbformat": 4,
  "nbformat_minor": 0,
  "metadata": {
    "colab": {
      "provenance": [],
      "authorship_tag": "ABX9TyMnboCDMfiLcAJbKpZGXYLx",
      "include_colab_link": true
    },
    "kernelspec": {
      "name": "python3",
      "display_name": "Python 3"
    },
    "language_info": {
      "name": "python"
    }
  },
  "cells": [
    {
      "cell_type": "markdown",
      "metadata": {
        "id": "view-in-github",
        "colab_type": "text"
      },
      "source": [
        "<a href=\"https://colab.research.google.com/github/Maulanaulinnuha/Praktek-Struktur-data/blob/main/Praktek_2.ipynb\" target=\"_parent\"><img src=\"https://colab.research.google.com/assets/colab-badge.svg\" alt=\"Open In Colab\"/></a>"
      ]
    },
    {
      "cell_type": "code",
      "execution_count": 1,
      "metadata": {
        "colab": {
          "base_uri": "https://localhost:8080/"
        },
        "id": "Zs_HB0roaTrE",
        "outputId": "6d2fd7f2-4207-4a3d-b755-15d2fed254cf"
      },
      "outputs": [
        {
          "output_type": "stream",
          "name": "stdout",
          "text": [
            "(1, 2, 3)\n"
          ]
        }
      ],
      "source": [
        "# Membuat tuple kosong\n",
        "my_tuple = ()\n",
        "\n",
        "# Membuat tuple dengan beberapa elemen\n",
        "my_tuple = (1, 2, 3, 4, 5)\n",
        "\n",
        "# Membuat tuple dengan elemen campuran (angka dan string)\n",
        "my_tuple = (1, \"dua\", 3.0)\n",
        "\n",
        "# Tuple dapat juga dibuat tanpa tanda kurung\n",
        "my_tuple = 1, 2, 3\n",
        "\n",
        "# Membuat tuple dengan satu elemen\n",
        "single_element_tuple = (42,)  # Harus ada koma setelah elemen tunggal\n",
        "\n",
        "print(my_tuple)\n"
      ]
    },
    {
      "cell_type": "code",
      "source": [
        "# Membuat tuple awal\n",
        "my_tuple = (1, 2, 3, 4, 5)\n",
        "\n",
        "# Menghapus elemen dengan membuat tuple baru tanpa elemen yang ingin dihapus\n",
        "new_tuple = my_tuple[:2] + my_tuple[3:]\n",
        "\n",
        "print(new_tuple)\n"
      ],
      "metadata": {
        "colab": {
          "base_uri": "https://localhost:8080/"
        },
        "id": "4Pw8YhPlaYEF",
        "outputId": "cf09ccd3-f2c1-4683-e38b-7bded16a01e9"
      },
      "execution_count": 2,
      "outputs": [
        {
          "output_type": "stream",
          "name": "stdout",
          "text": [
            "(1, 2, 4, 5)\n"
          ]
        }
      ]
    },
    {
      "cell_type": "code",
      "source": [
        "# Membuat tuple awal\n",
        "my_tuple = (1, 2, 3, 4, 5)\n",
        "\n",
        "# Menambahkan elemen baru ke tuple dengan membuat tuple baru\n",
        "new_tuple = my_tuple + (6,)\n",
        "\n",
        "# Menggantikan elemen di dalam tuple dengan membuat tuple baru\n",
        "updated_tuple = my_tuple[:3] + (10, 20, 30) + my_tuple[4:]\n",
        "\n",
        "print(new_tuple)\n",
        "print(updated_tuple)"
      ],
      "metadata": {
        "colab": {
          "base_uri": "https://localhost:8080/"
        },
        "id": "YjF1T8CBabo3",
        "outputId": "e51e90f9-6664-4584-9087-5d50af045e42"
      },
      "execution_count": 3,
      "outputs": [
        {
          "output_type": "stream",
          "name": "stdout",
          "text": [
            "(1, 2, 3, 4, 5, 6)\n",
            "(1, 2, 3, 10, 20, 30, 5)\n"
          ]
        }
      ]
    },
    {
      "cell_type": "code",
      "source": [
        "# Membuat dictionary kosong\n",
        "my_dict = {}\n",
        "\n",
        "# Menambahkan elemen ke dalam dictionary\n",
        "my_dict['nama'] = 'Fian'\n",
        "my_dict['usia'] = 20\n",
        "my_dict['kota'] = 'Semarang'\n",
        "\n",
        "# Menampilkan dictionary\n",
        "print(my_dict)\n",
        "\n",
        "# Mengakses nilai dari dictionary\n",
        "nama = my_dict['nama']\n",
        "usia = my_dict['usia']\n",
        "kota = my_dict['kota']\n",
        "\n",
        "print(f'Nama: {nama}')\n",
        "print(f'Usia: {usia}')\n",
        "print(f'Kota: {kota}')\n",
        "\n",
        "# Mengubah nilai dalam dictionary\n",
        "my_dict['usia'] = 31\n",
        "\n",
        "# Menghapus elemen dari dictionary\n",
        "del my_dict['kota']\n",
        "\n",
        "# Mengakses dictionary setelah diubah\n",
        "print(my_dict)"
      ],
      "metadata": {
        "colab": {
          "base_uri": "https://localhost:8080/"
        },
        "id": "cosDLpt5ae37",
        "outputId": "acd46a1c-c357-4499-946b-078c8b0948d0"
      },
      "execution_count": 6,
      "outputs": [
        {
          "output_type": "stream",
          "name": "stdout",
          "text": [
            "{'nama': 'Fian', 'usia': 20, 'kota': 'Semarang'}\n",
            "Nama: Fian\n",
            "Usia: 20\n",
            "Kota: Semarang\n",
            "{'nama': 'Fian', 'usia': 31}\n"
          ]
        }
      ]
    },
    {
      "cell_type": "code",
      "source": [
        "# Membuat dictionary kosong\n",
        "my_dict = {}\n",
        "\n",
        "# Menambahkan elemen ke dalam dictionary\n",
        "my_dict['nama'] = 'Fian'\n",
        "my_dict['usia'] = 20\n",
        "my_dict['kota'] = 'Semarang'\n",
        "\n",
        "# Menampilkan dictionary\n",
        "print(my_dict)\n",
        "\n",
        "# Mengakses nilai dari dictionary\n",
        "nama = my_dict['nama']\n",
        "usia = my_dict['usia']\n",
        "kota = my_dict['kota']\n",
        "\n",
        "print(f'Nama: {nama}')\n",
        "print(f'Usia: {usia}')\n",
        "print(f'Kota: {kota}')\n",
        "\n",
        "# Mengubah nilai dalam dictionary\n",
        "my_dict['usia'] = 22\n",
        "\n",
        "# Menghapus elemen dari dictionary\n",
        "del my_dict['kota']\n",
        "\n",
        "# Mengakses dictionary setelah diubah\n",
        "print(my_dict)\n",
        "\n",
        "# Iterasi melalui key dan value dalam dictionary\n",
        "for key, value in my_dict.items():\n",
        "    print(f'{key}: {value}')\n"
      ],
      "metadata": {
        "colab": {
          "base_uri": "https://localhost:8080/"
        },
        "id": "rOfPsiYDaheY",
        "outputId": "0a4a938f-6317-43a3-c956-41a81554f929"
      },
      "execution_count": 7,
      "outputs": [
        {
          "output_type": "stream",
          "name": "stdout",
          "text": [
            "{'nama': 'Fian', 'usia': 20, 'kota': 'Semarang'}\n",
            "Nama: Fian\n",
            "Usia: 20\n",
            "Kota: Semarang\n",
            "{'nama': 'Fian', 'usia': 22}\n",
            "nama: Fian\n",
            "usia: 22\n"
          ]
        }
      ]
    }
  ]
}