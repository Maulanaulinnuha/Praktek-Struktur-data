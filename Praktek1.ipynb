{
  "nbformat": 4,
  "nbformat_minor": 0,
  "metadata": {
    "colab": {
      "provenance": [],
      "authorship_tag": "ABX9TyNw8yLJpi5/YqUiI8DsVS5w",
      "include_colab_link": true
    },
    "kernelspec": {
      "name": "python3",
      "display_name": "Python 3"
    },
    "language_info": {
      "name": "python"
    }
  },
  "cells": [
    {
      "cell_type": "markdown",
      "metadata": {
        "id": "view-in-github",
        "colab_type": "text"
      },
      "source": [
        "<a href=\"https://colab.research.google.com/github/Maulanaulinnuha/Praktek-Struktur-data/blob/main/Praktek1.ipynb\" target=\"_parent\"><img src=\"https://colab.research.google.com/assets/colab-badge.svg\" alt=\"Open In Colab\"/></a>"
      ]
    },
    {
      "cell_type": "code",
      "execution_count": 12,
      "metadata": {
        "colab": {
          "base_uri": "https://localhost:8080/"
        },
        "id": "NYBq0zXZYl_u",
        "outputId": "6900aa6c-7600-4f90-9ac4-7d2ec2d5ad95"
      },
      "outputs": [
        {
          "output_type": "stream",
          "name": "stdout",
          "text": [
            "Alip\n",
            "Isi teman_saya indeks ke-3 adalah: Alip\n",
            "Semua teman: ada 5 orang\n",
            "Hilmi\n",
            "Ian\n",
            "Tegar\n",
            "Alip\n",
            "Fian\n"
          ]
        }
      ],
      "source": [
        "teman_saya = [\"Hilmi\", \"Ian\", \"Tegar\", \"Alip\",\"Fian\"]\n",
        "print(teman_saya[3])\n",
        "print (\"Isi teman_saya indeks ke-3 adalah: {}\".format(teman_saya[3]) )\n",
        "print( \"Semua teman: ada {} orang\".format(len(teman_saya)))\n",
        "for teman in teman_saya : print(teman)\n",
        ""
      ]
    },
    {
      "cell_type": "code",
      "source": [
        "\n",
        "buah = [\"Apel\",\"mangga\",\"nangka\",\"jeruk\",\"nanas\"]\n",
        "buah.append(\"manggis\")\n",
        "print(buah)"
      ],
      "metadata": {
        "colab": {
          "base_uri": "https://localhost:8080/"
        },
        "id": "oyAsSDWDYsTz",
        "outputId": "71eef6b6-bc4e-47bc-f38f-53fb14b1963c"
      },
      "execution_count": 2,
      "outputs": [
        {
          "output_type": "stream",
          "name": "stdout",
          "text": [
            "['Apel', 'mangga', 'nangka', 'jeruk', 'nanas', 'manggis']\n"
          ]
        }
      ]
    },
    {
      "cell_type": "code",
      "source": [
        "\n",
        "for i in range(5):\n",
        "  print(\"perulangan ke -\", i)\n",
        ""
      ],
      "metadata": {
        "colab": {
          "base_uri": "https://localhost:8080/"
        },
        "id": "pagDxDjvYuo3",
        "outputId": "d82ad583-1ad6-40b9-83c8-08ed6823c20f"
      },
      "execution_count": 3,
      "outputs": [
        {
          "output_type": "stream",
          "name": "stdout",
          "text": [
            "perulangan ke - 0\n",
            "perulangan ke - 1\n",
            "perulangan ke - 2\n",
            "perulangan ke - 3\n",
            "perulangan ke - 4\n"
          ]
        }
      ]
    },
    {
      "cell_type": "code",
      "source": [
        "\n",
        "teman = [\"Khoirul\", \"Hilmi\", \"Pripindo\", \"Nando\", \"Ulin\"]\n",
        "teman[4] = \"Fian\"\n",
        "print(\"Teman dekat saya adalah {}.\".format(teman[4]))"
      ],
      "metadata": {
        "colab": {
          "base_uri": "https://localhost:8080/"
        },
        "id": "AyTizicfYvOY",
        "outputId": "47018e78-d44d-4f4f-9fe1-f7d7c32d185f"
      },
      "execution_count": 4,
      "outputs": [
        {
          "output_type": "stream",
          "name": "stdout",
          "text": [
            "Teman dekat saya adalah Fian.\n"
          ]
        }
      ]
    },
    {
      "cell_type": "code",
      "source": [
        "#Deklarasi List\n",
        "nilai = [2,4,6,8,10,12,14,16,18,20]\n",
        "\n",
        "#tampilkan list\n",
        "print(\"List Nilai : \\n\",nilai)\n",
        "\n",
        "#menggunakan len\n",
        "print(\"\\nJumlah Index list nilai (len) : \\n\", len(nilai))\n",
        "\n",
        "#menggunakan count\n",
        "print(\"\\nJumlah Nilai 5 Dalam List (count) : \\n\", nilai.count(2))\n",
        "\n",
        "#Menggunakan append\n",
        "print(\"\\nMenambah element dalam list (append) : \")\n",
        "nilai.append(12)\n",
        "nilai.append(10)\n",
        "print(\"List Nilai : \",nilai)\n",
        "\n",
        "#Menggunakan index\n",
        "print(\"\\nIndex ke 8 (index) : \\n\", nilai.index(12))\n",
        "\n",
        "#Menggunakan insert\n",
        "nilai.insert(1,22)\n",
        "print(\"\\nTambah Nilai List (Insert) : \\n\", nilai)\n",
        "\n",
        "#Menggunakan pop\n",
        "nilai.pop()\n",
        "nilai.pop()\n",
        "print(\"\\nList Nilai (pop) : \\n\",nilai)\n",
        "\n",
        "#Menggunakan remove\n",
        "nilai.remove(2)\n",
        "nilai.remove(4)\n",
        "print(\"\\nList Nilai (remove) : \\n\", nilai)"
      ],
      "metadata": {
        "colab": {
          "base_uri": "https://localhost:8080/"
        },
        "id": "1hjIRpMGYyXi",
        "outputId": "6a27a63f-f095-4b65-c22f-db5fe30c93b5"
      },
      "execution_count": 5,
      "outputs": [
        {
          "output_type": "stream",
          "name": "stdout",
          "text": [
            "List Nilai : \n",
            " [2, 4, 6, 8, 10, 12, 14, 16, 18, 20]\n",
            "\n",
            "Jumlah Index list nilai (len) : \n",
            " 10\n",
            "\n",
            "Jumlah Nilai 5 Dalam List (count) : \n",
            " 1\n",
            "\n",
            "Menambah element dalam list (append) : \n",
            "List Nilai :  [2, 4, 6, 8, 10, 12, 14, 16, 18, 20, 12, 10]\n",
            "\n",
            "Index ke 8 (index) : \n",
            " 5\n",
            "\n",
            "Tambah Nilai List (Insert) : \n",
            " [2, 22, 4, 6, 8, 10, 12, 14, 16, 18, 20, 12, 10]\n",
            "\n",
            "List Nilai (pop) : \n",
            " [2, 22, 4, 6, 8, 10, 12, 14, 16, 18, 20]\n",
            "\n",
            "List Nilai (remove) : \n",
            " [22, 6, 8, 10, 12, 14, 16, 18, 20]\n"
          ]
        }
      ]
    },
    {
      "cell_type": "code",
      "source": [
        "#Menggunakan extend\n",
        "nilai2 = [4,2,8,10]\n",
        "nilai.extend(nilai2)\n",
        "print(\"\\nList Nilai (extend : \\n\", nilai)\n",
        "\n",
        "#Menggunakan reverse\n",
        "nilai.reverse()\n",
        "print(\"\\nList Nilai (reverse) : \\n\", nilai)\n",
        "\n",
        "#Menggunakan sort\n",
        "nilai.sort()\n",
        "print(\"\\nList Nilai (sort) : \\n\", nilai)\n",
        "\n",
        "#Menggunakan Max\n",
        "print(\"\\nNilai Terbanyak (max) : \\n\", max(nilai))\n",
        "\n",
        "#Mengguankan min\n",
        "print(\"\\nNilai terendah (min) : \\n\", min(nilai))\n",
        "\n",
        "#Menggunakan Sum\n",
        "print(\"\\nTotal penjumlahan nilai dari list_nilai (sum) : \\n\",\n",
        "sum(nilai))"
      ],
      "metadata": {
        "colab": {
          "base_uri": "https://localhost:8080/"
        },
        "id": "Jlc9eLBRY1ZH",
        "outputId": "625f1279-0bd2-4915-ea38-f4f69f350f38"
      },
      "execution_count": 6,
      "outputs": [
        {
          "output_type": "stream",
          "name": "stdout",
          "text": [
            "\n",
            "List Nilai (extend : \n",
            " [22, 6, 8, 10, 12, 14, 16, 18, 20, 4, 2, 8, 10]\n",
            "\n",
            "List Nilai (reverse) : \n",
            " [10, 8, 2, 4, 20, 18, 16, 14, 12, 10, 8, 6, 22]\n",
            "\n",
            "List Nilai (sort) : \n",
            " [2, 4, 6, 8, 8, 10, 10, 12, 14, 16, 18, 20, 22]\n",
            "\n",
            "Nilai Terbanyak (max) : \n",
            " 22\n",
            "\n",
            "Nilai terendah (min) : \n",
            " 2\n",
            "\n",
            "Total penjumlahan nilai dari list_nilai (sum) : \n",
            " 150\n"
          ]
        }
      ]
    },
    {
      "cell_type": "code",
      "source": [
        "# Deklarasi List Nama Orang\n",
        "nama_orang = [\"Tegar\", \"Hilmi\", \"Khoirul\", \"Alif\", \"Riyan\",\"Agil\"]\n",
        "\n",
        "# Tampilkan List\n",
        "print(\"List Nama Orang: \\n\", nama_orang)\n",
        "\n",
        "# Menggunakan len\n",
        "print(\"\\nJumlah Index List Nama Orang (len): \\n\", len(nama_orang))\n",
        "\n",
        "# Menggunakan count\n",
        "print(\"\\nJumlah Nama Khoirul dalam List (count): \\n\", nama_orang.count(\"Khoirul\"))\n",
        "\n",
        "# Menggunakan append\n",
        "print(\"\\nMenambah Nama ke dalam List (append): \")\n",
        "nama_orang.append(\"Privindo\")\n",
        "nama_orang.append(\"Kamaluddin\")\n",
        "print(\"List Nama Orang: \", nama_orang)\n",
        "\n",
        "# Menggunakan index\n",
        "print(\"\\nIndex ke-3 (index): \\n\", nama_orang.index(\"Agil\"))\n",
        "\n",
        "# Menggunakan insert\n",
        "nama_orang.insert(2, \"Ulin\")\n",
        "print(\"\\nMenambah Nama ke dalam List (Insert): \\n\", nama_orang)\n",
        "\n",
        "# Menggunakan pop\n",
        "nama_orang.pop()\n",
        "nama_orang.pop()\n",
        "print(\"\\nList Nama Orang (pop): \\n\", nama_orang)\n",
        "\n",
        "# Menggunakan remove\n",
        "nama_orang.remove(\"Agil\")\n",
        "nama_orang.remove(\"Tegar\")\n",
        "print(\"\\nList Nama Orang (remove): \\n\", nama_orang)"
      ],
      "metadata": {
        "colab": {
          "base_uri": "https://localhost:8080/"
        },
        "id": "D6DevBanY6D6",
        "outputId": "dd662c3e-5022-4ad8-f0ca-869eb4eca13b"
      },
      "execution_count": 7,
      "outputs": [
        {
          "output_type": "stream",
          "name": "stdout",
          "text": [
            "List Nama Orang: \n",
            " ['Tegar', 'Hilmi', 'Khoirul', 'Alif', 'Riyan', 'Agil']\n",
            "\n",
            "Jumlah Index List Nama Orang (len): \n",
            " 6\n",
            "\n",
            "Jumlah Nama Khoirul dalam List (count): \n",
            " 1\n",
            "\n",
            "Menambah Nama ke dalam List (append): \n",
            "List Nama Orang:  ['Tegar', 'Hilmi', 'Khoirul', 'Alif', 'Riyan', 'Agil', 'Privindo', 'Kamaluddin']\n",
            "\n",
            "Index ke-3 (index): \n",
            " 5\n",
            "\n",
            "Menambah Nama ke dalam List (Insert): \n",
            " ['Tegar', 'Hilmi', 'Ulin', 'Khoirul', 'Alif', 'Riyan', 'Agil', 'Privindo', 'Kamaluddin']\n",
            "\n",
            "List Nama Orang (pop): \n",
            " ['Tegar', 'Hilmi', 'Ulin', 'Khoirul', 'Alif', 'Riyan', 'Agil']\n",
            "\n",
            "List Nama Orang (remove): \n",
            " ['Hilmi', 'Ulin', 'Khoirul', 'Alif', 'Riyan']\n"
          ]
        }
      ]
    }
  ]
}