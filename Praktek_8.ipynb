{
  "nbformat": 4,
  "nbformat_minor": 0,
  "metadata": {
    "colab": {
      "provenance": [],
      "authorship_tag": "ABX9TyM8c2ZIKRJn7/bPJrwmY1ju",
      "include_colab_link": true
    },
    "kernelspec": {
      "name": "python3",
      "display_name": "Python 3"
    },
    "language_info": {
      "name": "python"
    }
  },
  "cells": [
    {
      "cell_type": "markdown",
      "metadata": {
        "id": "view-in-github",
        "colab_type": "text"
      },
      "source": [
        "<a href=\"https://colab.research.google.com/github/Maulanaulinnuha/Praktek-Struktur-data/blob/main/Praktek_8.ipynb\" target=\"_parent\"><img src=\"https://colab.research.google.com/assets/colab-badge.svg\" alt=\"Open In Colab\"/></a>"
      ]
    },
    {
      "cell_type": "code",
      "execution_count": 1,
      "metadata": {
        "colab": {
          "base_uri": "https://localhost:8080/"
        },
        "id": "vCQdFkvhX0kP",
        "outputId": "d65695fc-acea-4f25-ed87-a84d466d9fdd"
      },
      "outputs": [
        {
          "output_type": "stream",
          "name": "stdout",
          "text": [
            "Vertex \tDistance from Source\n",
            "0\t\t0\n",
            "1\t\t-1\n",
            "2\t\t2\n",
            "3\t\t-2\n",
            "4\t\t1\n"
          ]
        }
      ],
      "source": [
        "class Graph:\n",
        "    def __init__(self, vertices):\n",
        "        self.V = vertices\n",
        "        self.graph = []\n",
        "\n",
        "    def add_edge(self, u, v, w):\n",
        "        self.graph.append([u, v, w])\n",
        "\n",
        "    def bellman_ford(self, src):\n",
        "        # Inisialisasi jarak dari source ke semua vertex sebagai infinity\n",
        "        dist = [float(\"Inf\")] * self.V\n",
        "        dist[src] = 0\n",
        "\n",
        "        # Proses relaksasi untuk semua edge |V| - 1 kali\n",
        "        for _ in range(self.V - 1):\n",
        "            for u, v, w in self.graph:\n",
        "                if dist[u] != float(\"Inf\") and dist[u] + w < dist[v]:\n",
        "                    dist[v] = dist[u] + w\n",
        "\n",
        "        # Periksa apakah ada siklus negatif\n",
        "        for u, v, w in self.graph:\n",
        "            if dist[u] != float(\"Inf\") and dist[u] + w < dist[v]:\n",
        "                print(\"Graph contains negative weight cycle\")\n",
        "                return\n",
        "\n",
        "        self.print_solution(dist)\n",
        "\n",
        "    def print_solution(self, dist):\n",
        "        print(\"Vertex \\tDistance from Source\")\n",
        "        for i in range(self.V):\n",
        "            print(f\"{i}\\t\\t{dist[i]}\")\n",
        "\n",
        "\n",
        "# Contoh penggunaan\n",
        "g = Graph(5)\n",
        "g.add_edge(0, 1, -1)\n",
        "g.add_edge(0, 2, 4)\n",
        "g.add_edge(1, 2, 3)\n",
        "g.add_edge(1, 3, 2)\n",
        "g.add_edge(1, 4, 2)\n",
        "g.add_edge(3, 2, 5)\n",
        "g.add_edge(3, 1, 1)\n",
        "g.add_edge(4, 3, -3)\n",
        "\n",
        "# Menjalankan algoritma Bellman-Ford\n",
        "g.bellman_ford(0)"
      ]
    }
  ]
}