{
  "nbformat": 4,
  "nbformat_minor": 0,
  "metadata": {
    "colab": {
      "provenance": [],
      "authorship_tag": "ABX9TyPBtGs4vq3/fi9j4C/H8OhZ",
      "include_colab_link": true
    },
    "kernelspec": {
      "name": "python3",
      "display_name": "Python 3"
    },
    "language_info": {
      "name": "python"
    }
  },
  "cells": [
    {
      "cell_type": "markdown",
      "metadata": {
        "id": "view-in-github",
        "colab_type": "text"
      },
      "source": [
        "<a href=\"https://colab.research.google.com/github/Maulanaulinnuha/Praktek-Struktur-data/blob/main/Struktur_data_1_G_211_22_0101.ipynb\" target=\"_parent\"><img src=\"https://colab.research.google.com/assets/colab-badge.svg\" alt=\"Open In Colab\"/></a>"
      ]
    },
    {
      "cell_type": "code",
      "execution_count": null,
      "metadata": {
        "id": "Yh79IsRIFieA",
        "colab": {
          "base_uri": "https://localhost:8080/"
        },
        "outputId": "61751d32-6385-4350-b90f-7c78f959ca33"
      },
      "outputs": [
        {
          "output_type": "stream",
          "name": "stdout",
          "text": [
            "Fian\n",
            "Isi teman_saya indeks ke-3 adalah: Fian\n",
            "Semua teman: ada 5 orang\n",
            "Hilmi\n",
            "Supar\n",
            "Tegar\n",
            "Fian\n",
            "Ian\n"
          ]
        }
      ],
      "source": [
        "teman_saya = [\"Hilmi\", \"Supar\", \"Tegar\", \"Fian\",\"Ian\"]\n",
        "print(teman_saya[3])\n",
        "print (\"Isi teman_saya indeks ke-3 adalah: {}\".format(teman_saya[3]) )\n",
        "print( \"Semua teman: ada {} orang\".format(len(teman_saya)))\n",
        "for teman in teman_saya : print(teman)"
      ]
    },
    {
      "cell_type": "code",
      "source": [
        "buah = [\"Apel\",\"mangga\",\"nangka\",\"jeruk\",\"nanas\"]\n",
        "buah.append(\"manggis\")\n",
        "print(buah)"
      ],
      "metadata": {
        "colab": {
          "base_uri": "https://localhost:8080/"
        },
        "id": "H6K8njWSsiLl",
        "outputId": "b1a9c344-3e96-4a67-9015-40abed54d82f"
      },
      "execution_count": null,
      "outputs": [
        {
          "output_type": "stream",
          "name": "stdout",
          "text": [
            "['Apel', 'mangga', 'nangka', 'jeruk', 'nanas', 'manggis']\n"
          ]
        }
      ]
    },
    {
      "cell_type": "code",
      "source": [
        "for i in range(5):\n",
        "  print(\"perulangan ke -\", i)"
      ],
      "metadata": {
        "colab": {
          "base_uri": "https://localhost:8080/"
        },
        "id": "4256qgGKsmW2",
        "outputId": "b00308ff-3c92-4820-a8de-1374413e3c7d"
      },
      "execution_count": null,
      "outputs": [
        {
          "output_type": "stream",
          "name": "stdout",
          "text": [
            "perulangan ke - 0\n",
            "perulangan ke - 1\n",
            "perulangan ke - 2\n",
            "perulangan ke - 3\n",
            "perulangan ke - 4\n"
          ]
        }
      ]
    },
    {
      "cell_type": "code",
      "source": [
        "teman = [\"Supar\", \"Hilmi\", \"Ian\", \"Tegar\", \"Fian\"]\n",
        "teman[4] = \"Supar\"\n",
        "print(\"Teman dekat saya adalah {}.\".format(teman[4]))"
      ],
      "metadata": {
        "colab": {
          "base_uri": "https://localhost:8080/"
        },
        "id": "-WZxEF8bsq_1",
        "outputId": "c4a1dc4b-a0d9-4cad-8a33-e53cf8213afe"
      },
      "execution_count": null,
      "outputs": [
        {
          "output_type": "stream",
          "name": "stdout",
          "text": [
            "Teman dekat saya adalah Supar.\n"
          ]
        }
      ]
    },
    {
      "cell_type": "code",
      "source": [
        "#Deklarasi List\n",
        "nilai = [2,4,6,8,10,12,14,16,18,20]\n",
        "\n",
        "#tampilkan list\n",
        "print(\"List Nilai : \\n\",nilai)\n",
        "\n",
        "#menggunakan len\n",
        "print(\"\\nJumlah Index list nilai (len) : \\n\", len(nilai))\n",
        "\n",
        "#menggunakan count\n",
        "print(\"\\nJumlah Nilai 5 Dalam List (count) : \\n\", nilai.count(2))\n",
        "\n",
        "#Menggunakan append\n",
        "print(\"\\nMenambah element dalam list (append) : \")\n",
        "nilai.append(12)\n",
        "nilai.append(10)\n",
        "print(\"List Nilai : \",nilai)\n",
        "\n",
        "#Menggunakan index\n",
        "print(\"\\nIndex ke 8 (index) : \\n\", nilai.index(12))\n",
        "\n",
        "#Menggunakan insert\n",
        "nilai.insert(1,22)\n",
        "print(\"\\nTambah Nilai List (Insert) : \\n\", nilai)\n",
        "\n",
        "#Menggunakan pop\n",
        "nilai.pop()\n",
        "nilai.pop()\n",
        "print(\"\\nList Nilai (pop) : \\n\",nilai)\n",
        "\n",
        "#Menggunakan remove\n",
        "nilai.remove(2)\n",
        "nilai.remove(4)\n",
        "print(\"\\nList Nilai (remove) : \\n\", nilai)"
      ],
      "metadata": {
        "colab": {
          "base_uri": "https://localhost:8080/"
        },
        "id": "IQjGAva4sryF",
        "outputId": "48e16e4b-5d93-4e0b-ceb6-ca03af351c9d"
      },
      "execution_count": 5,
      "outputs": [
        {
          "output_type": "stream",
          "name": "stdout",
          "text": [
            "List Nilai : \n",
            " [2, 4, 6, 8, 10, 12, 14, 16, 18, 20]\n",
            "\n",
            "Jumlah Index list nilai (len) : \n",
            " 10\n",
            "\n",
            "Jumlah Nilai 5 Dalam List (count) : \n",
            " 1\n",
            "\n",
            "Menambah element dalam list (append) : \n",
            "List Nilai :  [2, 4, 6, 8, 10, 12, 14, 16, 18, 20, 12, 10]\n",
            "\n",
            "Index ke 8 (index) : \n",
            " 5\n",
            "\n",
            "Tambah Nilai List (Insert) : \n",
            " [2, 22, 4, 6, 8, 10, 12, 14, 16, 18, 20, 12, 10]\n",
            "\n",
            "List Nilai (pop) : \n",
            " [2, 22, 4, 6, 8, 10, 12, 14, 16, 18, 20]\n",
            "\n",
            "List Nilai (remove) : \n",
            " [22, 6, 8, 10, 12, 14, 16, 18, 20]\n"
          ]
        }
      ]
    },
    {
      "cell_type": "code",
      "source": [
        "#Menggunakan extend\n",
        "nilai2 = [4,2,8,10]\n",
        "nilai.extend(nilai2)\n",
        "print(\"\\nList Nilai (extend : \\n\", nilai)\n",
        "\n",
        "#Menggunakan reverse\n",
        "nilai.reverse()\n",
        "print(\"\\nList Nilai (reverse) : \\n\", nilai)\n",
        "\n",
        "#Menggunakan sort\n",
        "nilai.sort()\n",
        "print(\"\\nList Nilai (sort) : \\n\", nilai)\n",
        "\n",
        "#Menggunakan Max\n",
        "print(\"\\nNilai Terbanyak (max) : \\n\", max(nilai))\n",
        "\n",
        "#Mengguankan min\n",
        "print(\"\\nNilai terendah (min) : \\n\", min(nilai))\n",
        "\n",
        "#Menggunakan Sum\n",
        "print(\"\\nTotal penjumlahan nilai dari list_nilai (sum) : \\n\",\n",
        "sum(nilai))"
      ],
      "metadata": {
        "colab": {
          "base_uri": "https://localhost:8080/"
        },
        "id": "xSptwS0bj7Rc",
        "outputId": "1da330be-9976-4265-82ff-f57837b21442"
      },
      "execution_count": 6,
      "outputs": [
        {
          "output_type": "stream",
          "name": "stdout",
          "text": [
            "\n",
            "List Nilai (extend : \n",
            " [22, 6, 8, 10, 12, 14, 16, 18, 20, 4, 2, 8, 10]\n",
            "\n",
            "List Nilai (reverse) : \n",
            " [10, 8, 2, 4, 20, 18, 16, 14, 12, 10, 8, 6, 22]\n",
            "\n",
            "List Nilai (sort) : \n",
            " [2, 4, 6, 8, 8, 10, 10, 12, 14, 16, 18, 20, 22]\n",
            "\n",
            "Nilai Terbanyak (max) : \n",
            " 22\n",
            "\n",
            "Nilai terendah (min) : \n",
            " 2\n",
            "\n",
            "Total penjumlahan nilai dari list_nilai (sum) : \n",
            " 150\n"
          ]
        }
      ]
    },
    {
      "cell_type": "code",
      "source": [
        "# Deklarasi List Nama Orang\n",
        "nama_orang = [\"Hilmi\", \"Nando\", \"Tegar\", \"Fian\", \"Ian\",\"Ilham\"]\n",
        "\n",
        "# Tampilkan List\n",
        "print(\"List Nama Orang: \\n\", nama_orang)\n",
        "\n",
        "# Menggunakan len\n",
        "print(\"\\nJumlah Index List Nama Orang (len): \\n\", len(nama_orang))\n",
        "\n",
        "# Menggunakan count\n",
        "print(\"\\nJumlah Nama Tegar dalam List (count): \\n\", nama_orang.count(\"Tegar\"))\n",
        "\n",
        "# Menggunakan append\n",
        "print(\"\\nMenambah Nama ke dalam List (append): \")\n",
        "nama_orang.append(\"Alip\")\n",
        "nama_orang.append(\"Reyhan\")\n",
        "print(\"List Nama Orang: \", nama_orang)\n",
        "\n",
        "# Menggunakan index\n",
        "print(\"\\nIndex ke-3 (index): \\n\", nama_orang.index(\"Ilham\"))\n",
        "\n",
        "# Menggunakan insert\n",
        "nama_orang.insert(2, \"Riyan\")\n",
        "print(\"\\nMenambah Nama ke dalam List (Insert): \\n\", nama_orang)\n",
        "\n",
        "# Menggunakan pop\n",
        "nama_orang.pop()\n",
        "nama_orang.pop()\n",
        "print(\"\\nList Nama Orang (pop): \\n\", nama_orang)\n",
        "\n",
        "# Menggunakan remove\n",
        "nama_orang.remove(\"Ilham\")\n",
        "nama_orang.remove(\"Hilmi\")\n",
        "print(\"\\nList Nama Orang (remove): \\n\", nama_orang)\n",
        ""
      ],
      "metadata": {
        "colab": {
          "base_uri": "https://localhost:8080/"
        },
        "id": "g5fdjSBLkDDn",
        "outputId": "1bef0a8a-7d77-48d7-c8f7-e63790bb3fd1"
      },
      "execution_count": 11,
      "outputs": [
        {
          "output_type": "stream",
          "name": "stdout",
          "text": [
            "List Nama Orang: \n",
            " ['Hilmi', 'Nando', 'Tegar', 'Fian', 'Ian', 'Ilham']\n",
            "\n",
            "Jumlah Index List Nama Orang (len): \n",
            " 6\n",
            "\n",
            "Jumlah Nama Tegar dalam List (count): \n",
            " 1\n",
            "\n",
            "Menambah Nama ke dalam List (append): \n",
            "List Nama Orang:  ['Hilmi', 'Nando', 'Tegar', 'Fian', 'Ian', 'Ilham', 'Alip', 'Reyhan']\n",
            "\n",
            "Index ke-3 (index): \n",
            " 5\n",
            "\n",
            "Menambah Nama ke dalam List (Insert): \n",
            " ['Hilmi', 'Nando', 'Riyan', 'Tegar', 'Fian', 'Ian', 'Ilham', 'Alip', 'Reyhan']\n",
            "\n",
            "List Nama Orang (pop): \n",
            " ['Hilmi', 'Nando', 'Riyan', 'Tegar', 'Fian', 'Ian', 'Ilham']\n",
            "\n",
            "List Nama Orang (remove): \n",
            " ['Nando', 'Riyan', 'Tegar', 'Fian', 'Ian']\n"
          ]
        }
      ]
    },
    {
      "cell_type": "code",
      "source": [],
      "metadata": {
        "id": "IZGAv0Irka56"
      },
      "execution_count": null,
      "outputs": []
    }
  ]
}