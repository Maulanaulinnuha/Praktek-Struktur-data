{
  "nbformat": 4,
  "nbformat_minor": 0,
  "metadata": {
    "colab": {
      "provenance": [],
      "authorship_tag": "ABX9TyO7CAAEauxsgEm3RLTqf6iR",
      "include_colab_link": true
    },
    "kernelspec": {
      "name": "python3",
      "display_name": "Python 3"
    },
    "language_info": {
      "name": "python"
    }
  },
  "cells": [
    {
      "cell_type": "markdown",
      "metadata": {
        "id": "view-in-github",
        "colab_type": "text"
      },
      "source": [
        "<a href=\"https://colab.research.google.com/github/Maulanaulinnuha/Praktek-Struktur-data/blob/main/Praktek_5.ipynb\" target=\"_parent\"><img src=\"https://colab.research.google.com/assets/colab-badge.svg\" alt=\"Open In Colab\"/></a>"
      ]
    },
    {
      "cell_type": "code",
      "execution_count": 2,
      "metadata": {
        "colab": {
          "base_uri": "https://localhost:8080/"
        },
        "id": "soE8-WkWftS1",
        "outputId": "69d681eb-b47b-448d-cc70-1166da4bca04"
      },
      "outputs": [
        {
          "output_type": "stream",
          "name": "stdout",
          "text": [
            "Hasil setelah Bubble Sort: [11, 19, 22, 25, 44, 54, 90]\n"
          ]
        }
      ],
      "source": [
        "def bubble_sort(arr):\n",
        "    n = len(arr)\n",
        "\n",
        "    # Perulangan untuk jumlah iterasi\n",
        "    for i in range(n):\n",
        "        # Setiap iterasi, elemen terakhir sudah pasti sudah berada di posisi yang benar\n",
        "        # Jadi, kita hanya perlu melakukan iterasi sampai (n-i-1)\n",
        "        for j in range(0, n-i-1):\n",
        "            # Bandingkan dua elemen berturut-turut\n",
        "            if arr[j] > arr[j+1]:\n",
        "                # Jika elemen pertama lebih besar dari elemen kedua, tukar posisinya\n",
        "                arr[j], arr[j+1] = arr[j+1], arr[j]\n",
        "\n",
        "# Contoh penggunaan Bubble Sort\n",
        "arr = [54, 44, 25, 19, 22, 11, 90]\n",
        "bubble_sort(arr)\n",
        "\n",
        "print(\"Hasil setelah Bubble Sort:\", arr)\n"
      ]
    }
  ]
}