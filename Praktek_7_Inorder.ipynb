{
  "nbformat": 4,
  "nbformat_minor": 0,
  "metadata": {
    "colab": {
      "provenance": [],
      "authorship_tag": "ABX9TyNBFsVwf7fv1LSkmEIeBQZ2",
      "include_colab_link": true
    },
    "kernelspec": {
      "name": "python3",
      "display_name": "Python 3"
    },
    "language_info": {
      "name": "python"
    }
  },
  "cells": [
    {
      "cell_type": "markdown",
      "metadata": {
        "id": "view-in-github",
        "colab_type": "text"
      },
      "source": [
        "<a href=\"https://colab.research.google.com/github/Maulanaulinnuha/Praktek-Struktur-data/blob/main/Praktek_7_Inorder.ipynb\" target=\"_parent\"><img src=\"https://colab.research.google.com/assets/colab-badge.svg\" alt=\"Open In Colab\"/></a>"
      ]
    },
    {
      "cell_type": "code",
      "execution_count": null,
      "metadata": {
        "colab": {
          "base_uri": "https://localhost:8080/"
        },
        "id": "5JTPi1nNjEBK",
        "outputId": "21c36e40-906f-49dc-eb1f-bef09ccbab2d"
      },
      "outputs": [
        {
          "output_type": "stream",
          "name": "stdout",
          "text": [
            "\n",
            "Inorder traversal of the binary tree is:\n",
            "4\n",
            "2\n",
            "5\n",
            "1\n",
            "3\n"
          ]
        }
      ],
      "source": [
        "# Python3 program to for tree traversals\n",
        "# Inorder\n",
        "class Node:\n",
        "  def __init__(self, key):\n",
        "    self.left = None\n",
        "    self.right = None\n",
        "    self.val = key\n",
        "\n",
        "# A function to do inorder tree traversal\n",
        "def printInorder(root):\n",
        "\n",
        "  if root:\n",
        "\n",
        "    # First recur on left child\n",
        "    printInorder(root.left)\n",
        "\n",
        "    # then print the data of the node\n",
        "    print(root.val),\n",
        "\n",
        "    # now recur on the right child\n",
        "    printInorder(root.right)\n",
        "\n",
        "# Driver code\n",
        "if __name__ == \"__main__\":\n",
        "  root = Node(1)\n",
        "  root.left = Node(2)\n",
        "  root.right = Node(3)\n",
        "  root.left.left = Node(4)\n",
        "  root.left.right = Node(5)\n",
        "\n",
        "  # Function call\n",
        "  print(\"\\nInorder traversal of the binary tree is:\")\n",
        "  printInorder(root)"
      ]
    }
  ]
}